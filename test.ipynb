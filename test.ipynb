{
 "cells": [
  {
   "cell_type": "code",
   "execution_count": 1,
   "metadata": {},
   "outputs": [
    {
     "name": "stderr",
     "output_type": "stream",
     "text": [
      "USER_AGENT environment variable not set, consider setting it to identify your requests.\n"
     ]
    }
   ],
   "source": [
    "import ollama\n",
    "from langchain.text_splitter import RecursiveCharacterTextSplitter\n",
    "from langchain_community.document_loaders import WebBaseLoader\n",
    "from langchain_community.vectorstores import Chroma\n",
    "from langchain_community.embeddings import OllamaEmbeddings"
   ]
  },
  {
   "cell_type": "code",
   "execution_count": 30,
   "metadata": {},
   "outputs": [
    {
     "name": "stdout",
     "output_type": "stream",
     "text": [
      "[Document(page_content='\\n\\n\\n\\n\\n\\n\\n\\n\\n\\n\\n\\n\\n\\n\\n\\n\\n\\n\\n\\n\\n\\n\\n\\n\\n\\n\\n\\n\\n\\n\\n\\n\\n\\n\\n\\n\\n\\n\\n\\n\\n\\n\\n\\n\\n\\n\\n\\n\\n\\n\\n\\n\\n\\n\\n\\n\\n\\n\\n\\n\\n\\n\\n\\n\\nGitHub - paradite/sg-tech-list: :scroll: List of notable tech companies in Singapore\\n\\n\\n\\n\\n\\n\\n\\n\\n\\n\\n\\n\\n\\n\\n\\n\\n\\n\\n\\n\\n\\n\\n\\n\\n\\n\\n\\n\\n\\n\\n\\n\\n\\n\\n\\n\\n\\n\\n\\n\\n\\n\\n\\n\\n\\nSkip to content\\n\\n\\n\\n\\n\\n\\n\\n\\n\\n\\n\\n\\nNavigation Menu\\n\\nToggle navigation\\n\\n\\n\\n\\n\\n\\n\\n\\n\\n\\n          Sign in\\n        \\n\\n\\n \\n\\n\\n\\n\\n\\n\\n\\n\\n\\n\\n\\n\\n\\n        Product\\n        \\n\\n\\n\\n\\n\\n\\n\\n\\n\\n\\n\\n\\nActions\\n        Automate any workflow\\n      \\n\\n\\n\\n\\n\\n\\n\\nPackages\\n        Host and manage packages\\n      \\n\\n\\n\\n\\n\\n\\n\\nSecurity\\n        Find and fix vulnerabilities\\n      \\n\\n\\n\\n\\n\\n\\n\\nCodespaces\\n        Instant dev environments\\n      \\n\\n\\n\\n\\n\\n\\n\\nGitHub Copilot\\n        Write better code with AI\\n      \\n\\n\\n\\n\\n\\n\\n\\nCode review\\n        Manage code changes\\n      \\n\\n\\n\\n\\n\\n\\n\\nIssues\\n        Plan and track work\\n      \\n\\n\\n\\n\\n\\n\\n\\nDiscussions\\n        Collaborate outside of code\\n      \\n\\n\\n\\n\\nExplore\\n\\n\\n\\n      All features\\n\\n    \\n\\n\\n\\n      Documentation\\n\\n    \\n\\n\\n\\n\\n\\n      GitHub Skills\\n\\n    \\n\\n\\n\\n\\n\\n      Blog\\n\\n    \\n\\n\\n\\n\\n\\n\\n\\n\\n\\n        Solutions\\n        \\n\\n\\n\\n\\n\\nBy size\\n\\n\\n\\n      Enterprise\\n\\n    \\n\\n\\n\\n      Teams\\n\\n    \\n\\n\\n\\n      Startups\\n\\n    \\n\\n\\n\\n\\nBy industry\\n\\n\\n\\n      Healthcare\\n\\n    \\n\\n\\n\\n      Financial services\\n\\n    \\n\\n\\n\\n      Manufacturing\\n\\n    \\n\\n\\n\\n\\nBy use case\\n\\n\\n\\n      CI/CD & Automation\\n\\n    \\n\\n\\n\\n      DevOps\\n\\n    \\n\\n\\n\\n      DevSecOps\\n\\n    \\n\\n\\n\\n\\n\\n\\n\\n        Resources\\n        \\n\\n\\n\\n\\n\\nResources\\n\\n\\n\\n      Learning Pathways\\n\\n    \\n\\n\\n\\n\\n\\n      White papers, Ebooks, Webinars\\n\\n    \\n\\n\\n\\n\\n\\n      Customer Stories\\n\\n    \\n\\n\\n\\n      Partners\\n\\n    \\n\\n\\n\\n\\n\\n\\n\\n\\n\\n        Open Source\\n        \\n\\n\\n\\n\\n\\n\\n\\n\\n\\nGitHub Sponsors\\n        Fund open source developers\\n      \\n\\n\\n\\n\\n\\n\\n\\n\\nThe ReadME Project\\n        GitHub community articles\\n      \\n\\n\\n\\n\\nRepositories\\n\\n\\n\\n      Topics\\n\\n    \\n\\n\\n\\n      Trending\\n\\n    \\n\\n\\n\\n      Collections\\n\\n    \\n\\n\\n\\n\\n\\n\\n\\n        Enterprise\\n        \\n\\n\\n\\n\\n\\n\\n\\n\\n\\n\\n\\n\\nEnterprise platform\\n        AI-powered developer platform\\n      \\n\\n\\n\\n\\nAvailable add-ons\\n\\n\\n\\n\\n\\n\\n\\nAdvanced Security\\n        Enterprise-grade security features\\n      \\n\\n\\n\\n\\n\\n\\n\\nGitHub Copilot\\n        Enterprise-grade AI features\\n      \\n\\n\\n\\n\\n\\n\\n\\nPremium Support\\n        Enterprise-grade 24/7 support\\n      \\n\\n\\n\\n\\n\\n\\nPricing\\n\\n\\n\\n\\n\\n\\n\\n\\n\\n\\n\\n\\nSearch or jump to...\\n\\n\\n\\n\\n\\n\\n\\nSearch code, repositories, users, issues, pull requests...\\n\\n \\n\\n\\n\\n\\n        Search\\n      \\n\\n\\n\\n\\n\\n\\n\\n\\n\\n\\n\\n\\n\\nClear\\n \\n\\n\\n\\n\\n\\n\\n\\n\\n\\n\\n\\n\\n\\n\\n\\n\\n\\n\\n\\n\\n\\n\\n\\n\\n\\n\\n\\n\\n\\n\\n\\n\\n\\n\\n\\n\\n\\n\\n\\n\\n\\n\\n\\n\\n\\n\\n\\n \\n\\n\\n\\n\\n              Search syntax tips\\n \\n\\n\\n\\n\\n\\n\\n\\n\\n\\n\\n\\n\\n\\n\\n        Provide feedback\\n      \\n\\n\\n\\n\\n\\n\\n\\n\\n\\n \\nWe read every piece of feedback, and take your input very seriously.\\n\\n\\nInclude my email address so I can be contacted\\n\\n\\n     Cancel\\n\\n    Submit feedback\\n\\n\\n\\n\\n\\n\\n\\n\\n\\n\\n        Saved searches\\n      \\nUse saved searches to filter your results more quickly\\n\\n\\n\\n\\n\\n\\n\\n\\n\\n \\n\\n\\n\\n\\n\\nName\\n\\n\\n\\n\\n\\n\\nQuery\\n\\n\\n\\n            To see all available qualifiers, see our documentation.\\n          \\n \\n\\n\\n\\n\\n\\n     Cancel\\n\\n    Create saved search\\n\\n\\n\\n\\n\\n\\n\\n\\n              Sign in\\n            \\n\\n\\n              Sign up\\n            \\n\\n\\n\\n\\n\\n\\n\\n\\n\\nYou signed in with another tab or window. Reload to refresh your session.\\nYou signed out in another tab or window. Reload to refresh your session.\\nYou switched accounts on another tab or window. Reload to refresh your session.\\n \\n\\n\\nDismiss alert\\n\\n\\n\\n\\n\\n\\n\\n\\n\\n\\n\\n\\n\\n\\n\\n\\n\\n\\n\\n        paradite\\n \\n/\\n\\nsg-tech-list\\n\\nPublic\\n\\n\\n\\n\\n\\n \\n\\nNotifications\\n You must be signed in to change notification settings\\n\\n\\n \\n\\nFork\\n    32\\n\\n\\n\\n\\n \\n\\n\\n          Star\\n 537\\n  \\n\\n\\n\\n\\n\\n\\n\\n\\n\\n\\n        📜 List of notable tech companies in Singapore\\n      \\n\\n\\n\\n\\n\\nsg-tech-list-next.vercel.app/\\n\\n\\n\\n\\n\\n\\n\\n537\\n          stars\\n \\n\\n\\n\\n32\\n          forks\\n \\n\\n\\n\\nBranches\\n \\n\\n\\n\\nTags\\n \\n\\n\\n\\nActivity\\n \\n\\n\\n\\n \\n\\n\\n          Star\\n\\n  \\n\\n\\n\\n\\n\\n \\n\\nNotifications\\n You must be signed in to change notification settings\\n\\n\\n\\n\\n\\n\\n\\n\\n\\n\\n\\n\\n\\nCode\\n\\n\\n\\n\\n\\n\\n\\nIssues\\n0\\n\\n\\n\\n\\n\\n\\nPull requests\\n0\\n\\n\\n\\n\\n\\n\\nActions\\n\\n\\n\\n\\n\\n\\n\\nProjects\\n0\\n\\n\\n\\n\\n\\n\\nSecurity\\n\\n\\n\\n\\n\\n\\n\\nInsights\\n\\n\\n\\n \\n\\n \\n\\n\\nAdditional navigation options\\n\\n\\n \\n\\n\\n\\n\\n\\n\\n\\n\\n\\n\\n          Code\\n\\n\\n\\n\\n\\n\\n\\n\\n\\n\\n          Issues\\n\\n\\n\\n\\n\\n\\n\\n\\n\\n\\n          Pull requests\\n\\n\\n\\n\\n\\n\\n\\n\\n\\n\\n          Actions\\n\\n\\n\\n\\n\\n\\n\\n\\n\\n\\n          Projects\\n\\n\\n\\n\\n\\n\\n\\n\\n\\n\\n          Security\\n\\n\\n\\n\\n\\n\\n\\n\\n\\n\\n          Insights\\n\\n\\n\\n\\n\\n \\n\\n\\n\\n\\n\\nparadite/sg-tech-list\\n\\n\\n\\n\\n\\n\\n\\nThis commit does not belong to any branch on this repository, and may belong to a fork outside of the repository.\\n\\n\\n\\n \\n\\n\\n\\n\\n\\n\\n\\n\\n\\n\\n\\n\\n\\n\\n\\n\\n\\n\\n\\n\\n\\n\\n   \\xa0mainBranchesTagsGo to fileCodeFolders and filesNameNameLast commit messageLast commit dateLatest commit\\xa0History118 CommitsREADME.mdREADME.md\\xa0\\xa0View all filesRepository files navigationREADMESG Tech List\\nList of notable tech companies in Singapore. Useful when looking for a new job.\\nNew interactive website: https://sg-tech-list-next.vercel.app/\\n\\nNote Banks and non-tech companies are intentionally omitted from the list.\\n\\n\\nNote\\n😭 Offer Rescinded (2024/2023)\\n🔴 Layoff (2024/2023)\\n🟠 Layoff (2022)\\n🟢 Actively Hiring\\n\\nFAANG\\n\\nMeta (Facebook) 🔴\\nApple\\nAmazon (AWS) 🔴\\nNetflix\\nGoogle (NBU) 🔴\\n\\nFAANG extended / FAANG+\\n\\nMicrosoft 🔴\\n\\nLinkedIn 🔴\\nAzure\\nGitHub 🔴\\n\\n\\nStripe 🟠 Layoff 14% in Nov 2022\\nTwitter 🟠 Layoff 80% in Nov 2022\\nCloudflare 🔴 Anecdotes in Jan 2024\\n\\nChinese FAANG\\n\\nByteDance (TikTok, Lark) 🟢\\nAlibaba (Ant)\\nTencent\\n\\n\"FAANG lite\"\\n\\nGrab (GXS) 🔴 Layoff 1000 in June 2023\\nGojek\\nSEA (Shopee, Garena) 🔴\\nFoodpanda 🔴\\n\\nFintech\\n\\nFunding Societies | Modalku\\nWise\\nRapyd\\nPayPal 🔴\\nStashAway 🟠 Layoff 14%\\nEndowus 🔴  Layoff 10%\\nSyfe\\nAspire\\nAtome 😭 (verbal offer) 🟠 Layoff in 2022 in Indonesia\\nSpenmo 🔴 Layoff 60-70%\\nXendit 🟠\\nAdyen\\nArta Finance\\nAscenda Loyalty 🟢\\nDKatalis 🟢\\n\\nTrading\\n\\nJane Street\\nJump Trading\\nHudson River Trading (HRT)\\nOptiver\\nCitadel Securities\\nDRW\\nTower Research\\nSquarepoint\\nAlphaLab Capital\\nGrasshopper\\nQube Research & Technologies (QRT)\\nQuantedge\\nWorldQuant\\nBlockTech\\nD. E. Shaw & Co.\\nTwo Sigma\\n\\nCrypto\\n\\nCoinbase 🔴\\nBinance 🔴 Layoff 1000 in July 2023\\nCake DeFi 🔴 Layoff 34 since 2023\\nBybit 🟠\\nCoinhako\\nCrypto.com 🔴\\nMatrixport 🔴\\nBitdeer\\nOKX\\nAmber Group\\nNansen  🔴 Layoff 30%\\n\\nTech Consulting\\n\\nThoughtworks 🔴\\nPivotal Labs (VMware Tanzu Labs) 🔴\\nConfluent (Kafka)\\nSnowflake\\nElastic (ELK)\\nUnity Technologies\\n\\nGaming\\n\\nUbisoft 🔴 Layoff 124 in Nov 2023 in Canada\\nHoYoverse (miHoYo) 🟢\\nRiot Games 🟢\\n\\nGovernment\\nCivil\\n\\nOGP\\nGovTech 😭 (verbal offer)\\n\\nESTL 🟢\\nDSAID (Data Science and AI Division) 🟢\\n\\n\\nHDB 🟢\\nNLB 🟢\\nSTB 🟢\\nMAS 🟢\\n\\nDefence\\n\\nDSTA 🟢\\nDIS (Digital and Intelligence Service, SAF) 🟢\\nCSIT 🟢\\nHTX 🟢\\n\\nOther notable local companies\\n\\nCarousell 🟠\\nCARRO\\nNinja Van\\nSplyt\\nShopback 🔴 Layoff 195, 24% in March 2024\\nLazada 🔴\\nNextBillion.ai\\nCircles.Life 🟠\\nGlints 🟠\\nMobbin 🟢\\nSingapore Airlines 😭\\n\\nOther notable global companies\\n\\nRakuten Viki\\nAgoda\\nWeWork\\nShopify 🔴\\nVisa\\nMastercard\\nGitLab 🔴\\nSalesforce\\nIndeed 🔴 Layoff 200 in March 2023\\nZendesk 🔴 Layoff 8% in May 2023\\nTwilio\\nCoupang\\nTheTradeDesk\\nExpressVPN 🔴 Layoff 200 in July 2023\\nVMware 🔴 Mass layoffs Nov 2023 - August 2024\\nZoom 🔴\\n\\n\\nOther Resources\\nJob Listings\\n\\nSummer 2024 Tech Internships\\n\\nGitHub\\n\\n\\nTech Job Repo\\nSG Tech Jobs\\n\\nJob Platforms\\n\\nMyCareersFuture\\nNodeFlair.Jobs\\nLinkedIn Jobs\\n\\nSalary\\n\\nNodeFlair.Salaries\\nGlassdoor.Salaries\\n\\nLayoff\\n\\nLayoffs.fyi\\n\\nTech Stack\\n\\nTech Stack of Singapore tech companies\\n\\nCompany lists\\n16x Engineer has a collection of tech company lists in Singapore:\\n\\nTech Company Lists - 16x Engineer\\n\\nCredits\\nCredit for inventing the term \"FAANG lite\" goes to MrMarciaOng\\nContribution\\nThis is a community collaborative project. PRs are welcome!\\nGitHub repo\\n   \\n\\n\\n\\n\\n\\n\\n\\n\\nAbout\\n\\n        📜 List of notable tech companies in Singapore\\n      \\n\\n\\n\\n\\n\\nsg-tech-list-next.vercel.app/\\n\\n\\nTopics\\n\\n\\n\\n  list\\n\\n\\n  company\\n\\n\\n  tech\\n\\n\\n  jobs\\n\\n\\n  career\\n\\n\\n  singapore\\n\\n\\n  layoffs\\n\\n\\n\\nResources\\n\\n\\n\\n\\n\\n        Readme\\n \\n\\n\\n\\n\\n\\n\\n\\nActivity\\n \\nStars\\n\\n\\n\\n\\n\\n537\\n      stars\\n \\nWatchers\\n\\n\\n\\n\\n\\n28\\n      watching\\n \\nForks\\n\\n\\n\\n\\n\\n32\\n      forks\\n \\n\\n\\n          Report repository\\n \\n\\n\\n\\n\\n\\n\\n\\n    Releases\\n\\nNo releases published\\n\\n\\n\\n\\n\\n\\n    Packages\\n      0\\n\\n\\n        No packages published \\n\\n\\n\\n\\n\\n\\n\\n\\n\\n\\n\\n\\n\\n    Contributors\\n      19\\n\\n\\n\\n\\n\\n\\n\\n\\n\\n\\n\\n\\n\\n\\n\\n\\n\\n\\n\\n\\n\\n\\n\\n\\n\\n\\n\\n\\n\\n\\n\\n\\n\\n\\n\\n\\n\\n\\n\\n\\n\\n\\n\\n\\n\\n\\n\\n\\n\\n      + 5 contributors\\n\\n\\n\\n\\n\\n\\n\\n\\n\\n\\n\\n\\n\\nFooter\\n\\n\\n\\n\\n\\n\\n\\n\\n        © 2024 GitHub,\\xa0Inc.\\n      \\n\\n\\nFooter navigation\\n\\n\\nTerms\\n\\n\\nPrivacy\\n\\n\\nSecurity\\n\\n\\nStatus\\n\\n\\nDocs\\n\\n\\nContact\\n\\n\\n\\n\\n      Manage cookies\\n    \\n\\n\\n\\n\\n\\n      Do not share my personal information\\n    \\n\\n\\n\\n\\n\\n\\n\\n\\n\\n\\n\\n\\n\\n\\n\\n\\n    You can’t perform that action at this time.\\n  \\n\\n\\n\\n\\n\\n\\n\\n\\n\\n\\n\\n\\n', metadata={'source': 'https://github.com/paradite/sg-tech-list', 'title': 'GitHub - paradite/sg-tech-list: :scroll: List of notable tech companies in Singapore', 'description': ':scroll: List of notable tech companies in Singapore - paradite/sg-tech-list', 'language': 'en'})]\n"
     ]
    }
   ],
   "source": [
    "url = \"https://github.com/paradite/sg-tech-list\"\n",
    "loader = WebBaseLoader(url)\n",
    "docs = loader.load()\n",
    "print(docs)\n",
    "splitter = RecursiveCharacterTextSplitter(chunk_size=500, chunk_overlap=10)\n",
    "splits = splitter.split_documents(docs)"
   ]
  },
  {
   "cell_type": "code",
   "execution_count": 32,
   "metadata": {},
   "outputs": [
    {
     "name": "stdout",
     "output_type": "stream",
     "text": [
      "pulling model\n",
      "model pulled\n",
      "creating vectors\n"
     ]
    },
    {
     "data": {
      "text/plain": [
       "<langchain_community.vectorstores.chroma.Chroma at 0x7be2301b5180>"
      ]
     },
     "execution_count": 32,
     "metadata": {},
     "output_type": "execute_result"
    }
   ],
   "source": [
    "print('pulling model')\n",
    "ollama.pull('llama3')\n",
    "print('model pulled')\n",
    "embedding_fn = OllamaEmbeddings(model='llama3')\n",
    "print('creating vectors')\n",
    "Chroma.from_documents(documents=splits, embedding=embedding_fn , persist_directory='./data/vectorstore')"
   ]
  },
  {
   "cell_type": "code",
   "execution_count": 2,
   "metadata": {},
   "outputs": [],
   "source": [
    "def infer(prompt):\n",
    "    req = [{'role': 'user', 'content': prompt}]\n",
    "    resp = ollama.chat(model='llama3', messages=req)\n",
    "    return resp['message']['content']"
   ]
  },
  {
   "cell_type": "code",
   "execution_count": 3,
   "metadata": {},
   "outputs": [
    {
     "ename": "NameError",
     "evalue": "name 'embedding_fn' is not defined",
     "output_type": "error",
     "traceback": [
      "\u001b[0;31m---------------------------------------------------------------------------\u001b[0m",
      "\u001b[0;31mNameError\u001b[0m                                 Traceback (most recent call last)",
      "Cell \u001b[0;32mIn[3], line 1\u001b[0m\n\u001b[0;32m----> 1\u001b[0m vectorstore \u001b[38;5;241m=\u001b[39m Chroma(persist_directory\u001b[38;5;241m=\u001b[39m\u001b[38;5;124m'\u001b[39m\u001b[38;5;124m./data/vectorstore\u001b[39m\u001b[38;5;124m'\u001b[39m, embedding_function\u001b[38;5;241m=\u001b[39m\u001b[43membedding_fn\u001b[49m)\n\u001b[1;32m      2\u001b[0m retriever \u001b[38;5;241m=\u001b[39m vectorstore\u001b[38;5;241m.\u001b[39mas_retriever()\n\u001b[1;32m      3\u001b[0m \u001b[38;5;28;01mdef\u001b[39;00m \u001b[38;5;21minfer_with_context\u001b[39m(question):\n",
      "\u001b[0;31mNameError\u001b[0m: name 'embedding_fn' is not defined"
     ]
    }
   ],
   "source": [
    "vectorstore = Chroma(persist_directory='./data/vectorstore', embedding_function=embedding_fn)\n",
    "retriever = vectorstore.as_retriever()\n",
    "def infer_with_context(question):\n",
    "    docs = retriever.invoke(question)\n",
    "    ctx = '\\n\\n'.join(doc.page_content for doc in docs)\n",
    "    prompt = f\"\"\"\n",
    "You are an assistant for question-answering tasks. Use the following pieces of retrieved context to answer the question. If you don't know the answer, just say that you don't know. Use three sentences maximum and keep the answer concise.\n",
    "\n",
    "Question: {question} \n",
    "\n",
    "Context: {ctx} \n",
    "\n",
    "Answer:\n",
    "\"\"\"\n",
    "    return infer(prompt)"
   ]
  },
  {
   "cell_type": "code",
   "execution_count": 35,
   "metadata": {},
   "outputs": [
    {
     "name": "stdout",
     "output_type": "stream",
     "text": [
      "Based on the provided context, the Crypto companies in Singapore that experienced layoffs are:\n",
      "\n",
      "* Binance: Layoff 1000 in July 2023\n",
      "* Cake DeFi: Layoff 34 since 2023\n",
      "* Nansen: Layoff 30%\n",
      "\n",
      "Note: I don't know about other companies not listed here.\n"
     ]
    }
   ],
   "source": [
    "qn = \"Which Crypto companies in Singapore experienced layoffs?\"\n",
    "print(infer_with_context(qn))"
   ]
  },
  {
   "cell_type": "code",
   "execution_count": 36,
   "metadata": {},
   "outputs": [
    {
     "name": "stdout",
     "output_type": "stream",
     "text": [
      "According to the provided context, some companies that are actively hiring (or had recent layoffs) include: Rakuten Viki, Agoda, Shopify, GitLab, Salesforce, Twilio, Coupang, TheTradeDesk, ExpressVPN, and VMware.\n"
     ]
    }
   ],
   "source": [
    "qn = \"Which companies are actively hiring?\"\n",
    "print(infer_with_context(qn))"
   ]
  }
 ],
 "metadata": {
  "kernelspec": {
   "display_name": "env",
   "language": "python",
   "name": "python3"
  },
  "language_info": {
   "codemirror_mode": {
    "name": "ipython",
    "version": 3
   },
   "file_extension": ".py",
   "mimetype": "text/x-python",
   "name": "python",
   "nbconvert_exporter": "python",
   "pygments_lexer": "ipython3",
   "version": "3.10.12"
  }
 },
 "nbformat": 4,
 "nbformat_minor": 2
}
